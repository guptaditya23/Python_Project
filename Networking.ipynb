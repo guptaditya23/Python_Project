{
 "cells": [
  {
   "cell_type": "markdown",
   "id": "112b9d00-8472-4acb-80a8-ecd40a6a11f6",
   "metadata": {},
   "source": [
    "## Telnet\n",
    "Use the telnetlib module to connect to a Telnet server."
   ]
  },
  {
   "cell_type": "code",
   "execution_count": null,
   "id": "088ac315-53c5-4d59-be92-19e099327154",
   "metadata": {},
   "outputs": [],
   "source": []
  },
  {
   "cell_type": "code",
   "execution_count": 9,
   "id": "f37aa0a3-34f9-44fe-84a8-9553b711520c",
   "metadata": {},
   "outputs": [
    {
     "name": "stdout",
     "output_type": "stream",
     "text": [
      "An error occurred: name 'telnetlib' is not defined\n"
     ]
    }
   ],
   "source": [
    "def telnet_example(host, port, command):\n",
    "    try:\n",
    "# Connect to the server\n",
    "        tn = telnetlib.Telnet(host, port)\n",
    "# Send a command\n",
    "        tn.write(command.encode('ascii')+ b\"\\n\")\n",
    "# Read the response\n",
    "        response = tn.read_all().decode('ascii')\n",
    "        print(\"Response from Telnet server:\")\n",
    "        print(response)\n",
    "        tn.close()\n",
    "    except Exception as e:\n",
    "        print(f\"An error occurred: {e}\")\n",
    "# Example usage\n",
    "telnet_example('example.com',23,'HELP')"
   ]
  },
  {
   "cell_type": "markdown",
   "id": "b12af7b0-8fc4-4110-a1b4-c1e9611fd1c7",
   "metadata": {},
   "source": [
    "## FTP\n",
    "Use the ftplib module to interact with FTP servers."
   ]
  },
  {
   "cell_type": "code",
   "execution_count": 14,
   "id": "594e8ead-1775-472b-86bf-c973c239763c",
   "metadata": {},
   "outputs": [
    {
     "name": "stdout",
     "output_type": "stream",
     "text": [
      "An error occurred: [Errno 11001] getaddrinfo failed\n"
     ]
    }
   ],
   "source": [
    "from ftplib import FTP\n",
    "\n",
    "def ftp_example(host, username, password):\n",
    "    try:\n",
    "        # Connect to the FTP server\n",
    "        ftp = FTP(host)\n",
    "        ftp.login(username, password)\n",
    "        \n",
    "        # List files in the current directory\n",
    "        files = ftp.nlst()\n",
    "        print(\"Files in FTP directory:\")\n",
    "        for file in files:\n",
    "            print(file)\n",
    "        \n",
    "        # Upload a file\n",
    "        with open('test.txt', 'rb') as file:\n",
    "            ftp.storbinary('STOR test.txt', file)\n",
    "        \n",
    "        # Download a file\n",
    "        with open('downloaded_test.txt', 'wb') as file:\n",
    "            ftp.retrbinary('RETR test.txt', file.write)\n",
    "        \n",
    "        ftp.quit()\n",
    "    except Exception as e:\n",
    "        print(f\"An error occurred: {e}\")\n",
    "\n",
    "# Example usage\n",
    "ftp_example('ftp.example.com', 'username', 'password')\n"
   ]
  },
  {
   "cell_type": "markdown",
   "id": "18d753a2-f49e-47e3-86a9-8ba5015a9d5f",
   "metadata": {},
   "source": [
    "## SSH\n",
    "Use the paramiko library for SSH connections\n"
   ]
  },
  {
   "cell_type": "code",
   "execution_count": 19,
   "id": "60c19f9a-39ce-4150-b1ad-cd7938edf7f5",
   "metadata": {},
   "outputs": [
    {
     "name": "stderr",
     "output_type": "stream",
     "text": [
      "C:\\Users\\adityag4\\AppData\\Local\\anaconda3\\Lib\\site-packages\\paramiko\\transport.py:219: CryptographyDeprecationWarning: Blowfish has been deprecated and will be removed in a future release\n",
      "  \"class\": algorithms.Blowfish,\n"
     ]
    },
    {
     "name": "stdout",
     "output_type": "stream",
     "text": [
      "An error occurred: [WinError 10060] A connection attempt failed because the connected party did not properly respond after a period of time, or established connection failed because connected host has failed to respond\n"
     ]
    }
   ],
   "source": [
    "import paramiko\n",
    "\n",
    "def ssh_example(host, port, username, password, command):\n",
    "    try:\n",
    "        # Create an SSH client\n",
    "        ssh = paramiko.SSHClient()\n",
    "        ssh.set_missing_host_key_policy(paramiko.AutoAddPolicy())\n",
    "        \n",
    "        # Connect to the server\n",
    "        ssh.connect(host, port, username, password)\n",
    "        \n",
    "        # Execute a command\n",
    "        stdin, stdout, stderr = ssh.exec_command(command)\n",
    "        response = stdout.read().decode()\n",
    "        print(\"Response from SSH server:\")\n",
    "        print(response)\n",
    "        \n",
    "        ssh.close()\n",
    "    except Exception as e:\n",
    "        print(f\"An error occurred: {e}\")\n",
    "\n",
    "# Example usage\n",
    "ssh_example('example.com', 22, 'username', 'password', 'ls -l')\n"
   ]
  },
  {
   "cell_type": "markdown",
   "id": "8589ec70-ebc7-43e1-a230-49bac15c05bc",
   "metadata": {},
   "source": [
    "## SCP\n",
    "Use the paramiko library along with scp for SCP transfers.\n"
   ]
  },
  {
   "cell_type": "code",
   "execution_count": 22,
   "id": "f8e52106-31ad-4fba-a56d-8dc57a3e3c8e",
   "metadata": {},
   "outputs": [
    {
     "ename": "ModuleNotFoundError",
     "evalue": "No module named 'scp'",
     "output_type": "error",
     "traceback": [
      "\u001b[1;31m---------------------------------------------------------------------------\u001b[0m",
      "\u001b[1;31mModuleNotFoundError\u001b[0m                       Traceback (most recent call last)",
      "Cell \u001b[1;32mIn[22], line 2\u001b[0m\n\u001b[0;32m      1\u001b[0m \u001b[38;5;28;01mfrom\u001b[39;00m \u001b[38;5;21;01mparamiko\u001b[39;00m \u001b[38;5;28;01mimport\u001b[39;00m SSHClient\n\u001b[1;32m----> 2\u001b[0m \u001b[38;5;28;01mfrom\u001b[39;00m \u001b[38;5;21;01mscp\u001b[39;00m \u001b[38;5;28;01mimport\u001b[39;00m SCPClient\n\u001b[0;32m      4\u001b[0m \u001b[38;5;28;01mdef\u001b[39;00m \u001b[38;5;21mscp_example\u001b[39m(host, port, username, password, local_file, remote_file):\n\u001b[0;32m      5\u001b[0m     \u001b[38;5;28;01mtry\u001b[39;00m:\n\u001b[0;32m      6\u001b[0m         \u001b[38;5;66;03m# Create an SSH client\u001b[39;00m\n",
      "\u001b[1;31mModuleNotFoundError\u001b[0m: No module named 'scp'"
     ]
    }
   ],
   "source": [
    "from paramiko import SSHClient\n",
    "from scp import SCPClient\n",
    "\n",
    "def scp_example(host, port, username, password, local_file, remote_file):\n",
    "    try:\n",
    "        # Create an SSH client\n",
    "        ssh = SSHClient()\n",
    "        ssh.set_missing_host_key_policy(paramiko.AutoAddPolicy())\n",
    "        ssh.connect(host, port, username, password)\n",
    "        \n",
    "        # Use SCP to transfer files\n",
    "        with SCPClient(ssh.get_transport()) as scp:\n",
    "            scp.put(local_file, remote_file)\n",
    "            print(f\"File {local_file} uploaded to {remote_file}\")\n",
    "        \n",
    "        ssh.close()\n",
    "    except Exception as e:\n",
    "        print(f\"An error occurred: {e}\")\n",
    "\n",
    "# Example usage\n",
    "scp_example('example.com', 22, 'username', 'password', 'local_file.txt', 'remote_file.txt')\n"
   ]
  },
  {
   "cell_type": "code",
   "execution_count": 24,
   "id": "dc956177-8de2-4bbf-bad6-bd717eeeb3ef",
   "metadata": {},
   "outputs": [
    {
     "ename": "ModuleNotFoundError",
     "evalue": "No module named 'scp'",
     "output_type": "error",
     "traceback": [
      "\u001b[1;31m---------------------------------------------------------------------------\u001b[0m",
      "\u001b[1;31mModuleNotFoundError\u001b[0m                       Traceback (most recent call last)",
      "Cell \u001b[1;32mIn[24], line 1\u001b[0m\n\u001b[1;32m----> 1\u001b[0m \u001b[38;5;28;01mimport\u001b[39;00m \u001b[38;5;21;01mscp\u001b[39;00m\n",
      "\u001b[1;31mModuleNotFoundError\u001b[0m: No module named 'scp'"
     ]
    }
   ],
   "source": [
    "import scp\n"
   ]
  },
  {
   "cell_type": "code",
   "execution_count": 27,
   "id": "aa4164af-8ace-45ba-8a28-616470fd31f9",
   "metadata": {},
   "outputs": [
    {
     "name": "stdout",
     "output_type": "stream",
     "text": [
      "Requirement already satisfied: scp in c:\\users\\adityag4\\appdata\\local\\anaconda3\\lib\\site-packages (0.15.0)\n",
      "Requirement already satisfied: paramiko in c:\\users\\adityag4\\appdata\\local\\anaconda3\\lib\\site-packages (from scp) (2.8.1)\n",
      "Requirement already satisfied: bcrypt>=3.1.3 in c:\\users\\adityag4\\appdata\\local\\anaconda3\\lib\\site-packages (from paramiko->scp) (3.2.0)\n",
      "Requirement already satisfied: cryptography>=2.5 in c:\\users\\adityag4\\appdata\\local\\anaconda3\\lib\\site-packages (from paramiko->scp) (42.0.5)\n",
      "Requirement already satisfied: pynacl>=1.0.1 in c:\\users\\adityag4\\appdata\\local\\anaconda3\\lib\\site-packages (from paramiko->scp) (1.5.0)\n",
      "Requirement already satisfied: cffi>=1.1 in c:\\users\\adityag4\\appdata\\local\\anaconda3\\lib\\site-packages (from bcrypt>=3.1.3->paramiko->scp) (1.16.0)\n",
      "Requirement already satisfied: six>=1.4.1 in c:\\users\\adityag4\\appdata\\local\\anaconda3\\lib\\site-packages (from bcrypt>=3.1.3->paramiko->scp) (1.16.0)\n",
      "Requirement already satisfied: pycparser in c:\\users\\adityag4\\appdata\\local\\anaconda3\\lib\\site-packages (from cffi>=1.1->bcrypt>=3.1.3->paramiko->scp) (2.21)\n"
     ]
    }
   ],
   "source": [
    "!pip install scp"
   ]
  },
  {
   "cell_type": "code",
   "execution_count": 28,
   "id": "8afbf593-8cf0-443e-a718-cdd77bded21a",
   "metadata": {},
   "outputs": [
    {
     "name": "stdout",
     "output_type": "stream",
     "text": [
      "An error occurred: [WinError 10060] A connection attempt failed because the connected party did not properly respond after a period of time, or established connection failed because connected host has failed to respond\n"
     ]
    }
   ],
   "source": [
    "from paramiko import SSHClient\n",
    "from scp import SCPClient\n",
    "\n",
    "def scp_example(host, port, username, password, local_file, remote_file):\n",
    "    try:\n",
    "        # Create an SSH client\n",
    "        ssh = SSHClient()\n",
    "        ssh.set_missing_host_key_policy(paramiko.AutoAddPolicy())\n",
    "        ssh.connect(host, port, username, password)\n",
    "        \n",
    "        # Use SCP to transfer files\n",
    "        with SCPClient(ssh.get_transport()) as scp:\n",
    "            scp.put(local_file, remote_file)\n",
    "            print(f\"File {local_file} uploaded to {remote_file}\")\n",
    "        \n",
    "        ssh.close()\n",
    "    except Exception as e:\n",
    "        print(f\"An error occurred: {e}\")\n",
    "\n",
    "# Example usage\n",
    "scp_example('example.com', 22, 'username', 'password', 'local_file.txt', 'remote_file.txt')\n"
   ]
  },
  {
   "cell_type": "markdown",
   "id": "5adc04c4-8733-474c-a35b-fa6c71a0ab51",
   "metadata": {},
   "source": [
    "## SMTP\n",
    "Use the smtplib module to send emails via SMTP.\n"
   ]
  },
  {
   "cell_type": "code",
   "execution_count": 32,
   "id": "a3db9baa-20f5-4c34-9b7e-6ea242d50323",
   "metadata": {},
   "outputs": [
    {
     "name": "stdout",
     "output_type": "stream",
     "text": [
      "An error occurred: [Errno 11001] getaddrinfo failed\n"
     ]
    }
   ],
   "source": [
    "import smtplib\n",
    "from email.mime.text import MIMEText\n",
    "\n",
    "def smtp_example(smtp_server, smtp_port, username, password, to_email, subject, body):\n",
    "    try:\n",
    "        # Create a text/plain message\n",
    "        msg = MIMEText(body)\n",
    "        msg['Subject'] = subject\n",
    "        msg['From'] = username\n",
    "        msg['To'] = to_email\n",
    "        \n",
    "        # Connect to the SMTP server and send email\n",
    "        with smtplib.SMTP_SSL(smtp_server, smtp_port) as server:\n",
    "            server.login(username, password)\n",
    "            server.sendmail(username, [to_email], msg.as_string())\n",
    "        \n",
    "        print(f\"Email sent to {to_email}\")\n",
    "    except Exception as e:\n",
    "        print(f\"An error occurred: {e}\")\n",
    "\n",
    "# Example usage\n",
    "smtp_example('smtp.example.com', 465, 'your_email@example.com', 'your_password', 'recipient@example.com', 'Subject', 'Email body text')\n"
   ]
  },
  {
   "cell_type": "markdown",
   "id": "84100b8d-daa6-42a4-9791-daa8a1f8a7e7",
   "metadata": {},
   "source": [
    "## Process Automation\n"
   ]
  },
  {
   "cell_type": "markdown",
   "id": "3f2979fd-7b33-47c4-a5df-1ca607a3b2ca",
   "metadata": {},
   "source": [
    "## subprocess Module\n",
    "Use the subprocess module to spawn new processes and interact with them.\n"
   ]
  },
  {
   "cell_type": "code",
   "execution_count": 38,
   "id": "e67c8e14-ae2c-463d-be55-ba85898520a3",
   "metadata": {},
   "outputs": [
    {
     "name": "stdout",
     "output_type": "stream",
     "text": [
      "Command Output:\n",
      "\n",
      "Command Error (if any):\n",
      "'ls' is not recognized as an internal or external command,\n",
      "operable program or batch file.\n",
      "\n"
     ]
    }
   ],
   "source": [
    "import subprocess\n",
    "\n",
    "def subprocess_example(command):\n",
    "    try:\n",
    "        # Run a command and get output\n",
    "        result = subprocess.run(command, shell=True, text=True, capture_output=True)\n",
    "        print(\"Command Output:\")\n",
    "        print(result.stdout)\n",
    "        print(\"Command Error (if any):\")\n",
    "        print(result.stderr)\n",
    "    except Exception as e:\n",
    "        print(f\"An error occurred: {e}\")\n",
    "\n",
    "# Example usage\n",
    "subprocess_example('ls -l')\n"
   ]
  },
  {
   "cell_type": "markdown",
   "id": "218cbcc6-94ec-4b01-932d-e83c1ce715c7",
   "metadata": {},
   "source": [
    "## os Module\n",
    "Use the os module to interact with the operating system.\n"
   ]
  },
  {
   "cell_type": "code",
   "execution_count": 41,
   "id": "9f1fdff3-2bae-4194-90fe-0acb5407f54d",
   "metadata": {},
   "outputs": [
    {
     "name": "stdout",
     "output_type": "stream",
     "text": [
      "Current Working Directory: C:\\Users\\adityag4\\PythonTraining\n",
      "Files in Directory:\n",
      ".ipynb_checkpoints\n",
      "Day 1 Code Python 24Sep2024 (1).ipynb\n",
      "Day 1 Code Python 24Sep2024.ipynb\n",
      "Day 2 Code Python 25Sep2024 (1).ipynb\n",
      "Day 2 Code Python 25Sep2024.ipynb\n",
      "Day 3 Code Python 26Sep2024 (1).ipynb\n",
      "Day1.ipynb\n",
      "HTTP_Problem.ipynb\n",
      "Networking.ipynb\n",
      "Directory 'new_directory' created\n",
      "Directory 'new_directory' removed\n"
     ]
    }
   ],
   "source": [
    "import os\n",
    "\n",
    "def os_example():\n",
    "    try:\n",
    "        # Get the current working directory\n",
    "        cwd = os.getcwd()\n",
    "        print(f\"Current Working Directory: {cwd}\")\n",
    "\n",
    "        # List files in the current directory\n",
    "        files = os.listdir(cwd)\n",
    "        print(\"Files in Directory:\")\n",
    "        for file in files:\n",
    "            print(file)\n",
    "\n",
    "        # Create a new directory\n",
    "        new_dir = 'new_directory'\n",
    "        os.mkdir(new_dir)\n",
    "        print(f\"Directory '{new_dir}' created\")\n",
    "\n",
    "        # Remove the directory\n",
    "        os.rmdir(new_dir)\n",
    "        print(f\"Directory '{new_dir}' removed\")\n",
    "    except Exception as e:\n",
    "        print(f\"An error occurred: {e}\")\n",
    "\n",
    "# Example usage\n",
    "os_example()\n"
   ]
  },
  {
   "cell_type": "code",
   "execution_count": null,
   "id": "4d322bdf-e84b-4307-9158-766b854f22bc",
   "metadata": {},
   "outputs": [],
   "source": []
  }
 ],
 "metadata": {
  "kernelspec": {
   "display_name": "Python 3 (ipykernel)",
   "language": "python",
   "name": "python3"
  },
  "language_info": {
   "codemirror_mode": {
    "name": "ipython",
    "version": 3
   },
   "file_extension": ".py",
   "mimetype": "text/x-python",
   "name": "python",
   "nbconvert_exporter": "python",
   "pygments_lexer": "ipython3",
   "version": "3.12.4"
  }
 },
 "nbformat": 4,
 "nbformat_minor": 5
}
