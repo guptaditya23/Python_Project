{
 "cells": [
  {
   "cell_type": "code",
   "execution_count": 23,
   "id": "17958610-c5a0-4b49-a948-5cd1e94500fa",
   "metadata": {},
   "outputs": [
    {
     "name": "stdout",
     "output_type": "stream",
     "text": [
      "\n",
      "Options:\n",
      "1. Add City\n",
      "2. Update City\n",
      "3. Delete City\n",
      "4. Show Weather\n",
      "5. Show weather of all cities\n",
      "6. Exit\n"
     ]
    },
    {
     "name": "stdin",
     "output_type": "stream",
     "text": [
      "Enter your choice:  4\n"
     ]
    },
    {
     "name": "stdout",
     "output_type": "stream",
     "text": [
      "No cities in the list. Add a city first.\n",
      "\n",
      "Options:\n",
      "1. Add City\n",
      "2. Update City\n",
      "3. Delete City\n",
      "4. Show Weather\n",
      "5. Show weather of all cities\n",
      "6. Exit\n"
     ]
    },
    {
     "name": "stdin",
     "output_type": "stream",
     "text": [
      "Enter your choice:  1\n",
      "Enter city name to add:  bangalore\n"
     ]
    },
    {
     "name": "stdout",
     "output_type": "stream",
     "text": [
      "Added city: bangalore\n",
      "\n",
      "Options:\n",
      "1. Add City\n",
      "2. Update City\n",
      "3. Delete City\n",
      "4. Show Weather\n",
      "5. Show weather of all cities\n",
      "6. Exit\n"
     ]
    },
    {
     "name": "stdin",
     "output_type": "stream",
     "text": [
      "Enter your choice:  4\n"
     ]
    },
    {
     "name": "stdout",
     "output_type": "stream",
     "text": [
      "Weather in bangalore: scattered clouds, Temperature: 25°C\n",
      "\n",
      "Options:\n",
      "1. Add City\n",
      "2. Update City\n",
      "3. Delete City\n",
      "4. Show Weather\n",
      "5. Show weather of all cities\n",
      "6. Exit\n"
     ]
    },
    {
     "name": "stdin",
     "output_type": "stream",
     "text": [
      "Enter your choice:  1\n",
      "Enter city name to add:  Ranchi\n"
     ]
    },
    {
     "name": "stdout",
     "output_type": "stream",
     "text": [
      "Added city: Ranchi\n",
      "\n",
      "Options:\n",
      "1. Add City\n",
      "2. Update City\n",
      "3. Delete City\n",
      "4. Show Weather\n",
      "5. Show weather of all cities\n",
      "6. Exit\n"
     ]
    },
    {
     "name": "stdin",
     "output_type": "stream",
     "text": [
      "Enter your choice:  5\n"
     ]
    },
    {
     "name": "stdout",
     "output_type": "stream",
     "text": [
      "\n",
      "Weather of All Cities:\n",
      "Weather in bangalore: scattered clouds, Temperature: 25°C\n",
      "Weather in Ranchi: mist, Temperature: 28.06°C\n",
      "\n",
      "Options:\n",
      "1. Add City\n",
      "2. Update City\n",
      "3. Delete City\n",
      "4. Show Weather\n",
      "5. Show weather of all cities\n",
      "6. Exit\n"
     ]
    },
    {
     "name": "stdin",
     "output_type": "stream",
     "text": [
      "Enter your choice:  3\n",
      "Enter city name to delete:  Ranchi\n"
     ]
    },
    {
     "name": "stdout",
     "output_type": "stream",
     "text": [
      "Deleted city: Ranchi\n",
      "\n",
      "Options:\n",
      "1. Add City\n",
      "2. Update City\n",
      "3. Delete City\n",
      "4. Show Weather\n",
      "5. Show weather of all cities\n",
      "6. Exit\n"
     ]
    },
    {
     "name": "stdin",
     "output_type": "stream",
     "text": [
      "Enter your choice:  5\n"
     ]
    },
    {
     "name": "stdout",
     "output_type": "stream",
     "text": [
      "\n",
      "Weather of All Cities:\n",
      "Weather in bangalore: scattered clouds, Temperature: 25°C\n",
      "\n",
      "Options:\n",
      "1. Add City\n",
      "2. Update City\n",
      "3. Delete City\n",
      "4. Show Weather\n",
      "5. Show weather of all cities\n",
      "6. Exit\n"
     ]
    },
    {
     "name": "stdin",
     "output_type": "stream",
     "text": [
      "Enter your choice:  6\n"
     ]
    },
    {
     "name": "stdout",
     "output_type": "stream",
     "text": [
      "Goodbye!\n"
     ]
    }
   ],
   "source": [
    "import requests\n",
    "\n",
    "\n",
    "API_KEY = \"11a77f10c896d3df2db2a46b13e05dcb\"\n",
    "BASE_URL = \"http://api.openweathermap.org/data/2.5/weather\"\n",
    "\n",
    "\n",
    "cities = []\n",
    "\n",
    "def get_weather(city):\n",
    "    try:\n",
    "        response = requests.get(BASE_URL, params={\"q\": city, \"appid\": API_KEY, \"units\": \"metric\"})\n",
    "        response.raise_for_status()\n",
    "        data = response.json()\n",
    "        weather = data['weather'][0]['description']\n",
    "        temperature = data['main']['temp']\n",
    "        print(f\"Weather in {city}: {weather}, Temperature: {temperature}°C\")\n",
    "    except requests.exceptions.HTTPError as e:\n",
    "        print(f\"Error fetching weather data for {city}: {e}\")\n",
    "\n",
    "def add_city(city):\n",
    "    if city not in cities:\n",
    "        cities.append(city)\n",
    "        print(f\"Added city: {city}\")\n",
    "    else:\n",
    "        print(f\"City {city} is already in the list.\")\n",
    "\n",
    "def update_city(old_city, new_city):\n",
    "    if old_city in cities:\n",
    "        index = cities.index(old_city)\n",
    "        cities[index] = new_city\n",
    "        print(f\"Updated city from {old_city} to {new_city}\")\n",
    "    else:\n",
    "        print(f\"City {old_city} not found in the list.\")\n",
    "\n",
    "def delete_city(city):\n",
    "    if city in cities:\n",
    "        cities.remove(city)\n",
    "        print(f\"Deleted city: {city}\")\n",
    "    else:\n",
    "        print(f\"City {city} not found in the list.\")\n",
    "\n",
    "def show_weather():\n",
    "    if not cities:\n",
    "        print(\"No cities in the list. Add a city first.\")\n",
    "    else:\n",
    "        for city in cities:\n",
    "            get_weather(city)\n",
    "\n",
    "def show_weather_of_all_cities():\n",
    "    print(\"\\nWeather of All Cities:\")\n",
    "    if not cities:\n",
    "        print(\"No cities in the list. Add a city first.\")\n",
    "    else:\n",
    "        for city in cities:\n",
    "            get_weather(city)\n",
    "\n",
    "\n",
    "\n",
    "def main():\n",
    "    while True:\n",
    "        print(\"\\nOptions:\")\n",
    "        print(\"1. Add City\")\n",
    "        print(\"2. Update City\")\n",
    "        print(\"3. Delete City\")\n",
    "        print(\"4. Show Weather\")\n",
    "        print(\"5. Show weather of all cities\")\n",
    "        print(\"6. Exit\")\n",
    "        \n",
    "        choice = input(\"Enter your choice: \")\n",
    "        \n",
    "        if choice == \"1\":\n",
    "            city = input(\"Enter city name to add: \")\n",
    "            add_city(city)\n",
    "        elif choice == \"2\":\n",
    "            old_city = input(\"Enter city name to update: \")\n",
    "            new_city = input(\"Enter new city name: \")\n",
    "            update_city(old_city, new_city)\n",
    "        elif choice == \"3\":\n",
    "            city = input(\"Enter city name to delete: \")\n",
    "            delete_city(city)\n",
    "        elif choice == \"4\":\n",
    "            show_weather()\n",
    "        elif choice == \"5\":\n",
    "            show_weather_of_all_cities()\n",
    "        elif choice == \"6\":\n",
    "            print(\"Goodbye!\")\n",
    "            break\n",
    "        else:\n",
    "            print(\"Invalid choice. Please try again.\")\n",
    "\n",
    "if __name__ == \"__main__\":\n",
    "    main()"
   ]
  },
  {
   "cell_type": "code",
   "execution_count": null,
   "id": "c9f967a5-d8fd-4c2e-ac92-ecd7dcef1ebd",
   "metadata": {},
   "outputs": [],
   "source": []
  }
 ],
 "metadata": {
  "kernelspec": {
   "display_name": "Python 3 (ipykernel)",
   "language": "python",
   "name": "python3"
  },
  "language_info": {
   "codemirror_mode": {
    "name": "ipython",
    "version": 3
   },
   "file_extension": ".py",
   "mimetype": "text/x-python",
   "name": "python",
   "nbconvert_exporter": "python",
   "pygments_lexer": "ipython3",
   "version": "3.12.4"
  }
 },
 "nbformat": 4,
 "nbformat_minor": 5
}
